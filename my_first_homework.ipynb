{
 "cells": [
  {
   "cell_type": "markdown",
   "id": "e6c263a1-28da-4aed-a631-5527b180b9a3",
   "metadata": {},
   "source": [
    "นาย ภาคิน เลื่อมรัตน์\n",
    "\n",
    "เลขที่ 6712732116"
   ]
  },
  {
   "cell_type": "code",
   "execution_count": 1,
   "id": "1de6613b-f973-4622-9551-1af389145eb9",
   "metadata": {},
   "outputs": [
    {
     "name": "stdout",
     "output_type": "stream",
     "text": [
      "Hello wold\n"
     ]
    }
   ],
   "source": [
    "print(\"Hello wold\")"
   ]
  },
  {
   "cell_type": "code",
   "execution_count": null,
   "id": "84c8721f-5d3c-43e2-9ed1-d6be5cd33f40",
   "metadata": {},
   "outputs": [],
   "source": []
  }
 ],
 "metadata": {
  "kernelspec": {
   "display_name": "Python 3 (ipykernel)",
   "language": "python",
   "name": "python3"
  },
  "language_info": {
   "codemirror_mode": {
    "name": "ipython",
    "version": 3
   },
   "file_extension": ".py",
   "mimetype": "text/x-python",
   "name": "python",
   "nbconvert_exporter": "python",
   "pygments_lexer": "ipython3",
   "version": "3.13.0"
  }
 },
 "nbformat": 4,
 "nbformat_minor": 5
}
